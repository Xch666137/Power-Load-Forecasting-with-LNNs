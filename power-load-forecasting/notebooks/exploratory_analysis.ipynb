{
 "cells": [
  {
   "cell_type": "markdown",
   "metadata": {},
   "source": [
    "# 电力负荷数据探索性分析\n",
    "\n",
    "本notebook用于对电力负荷数据进行探索性分析，包括数据可视化、统计分析和特征工程等。"
   ]
  },
  {
   "cell_type": "code",
   "execution_count": null,
   "metadata": {},
   "outputs": [],
   "source": [
    "import pandas as pd\n",
    "import numpy as np\n",
    "import matplotlib.pyplot as plt\n",
    "import seaborn as sns\n",
    "from datetime import datetime\n",
    "import sys\n",
    "import os\n",
    "\n",
    "# 添加src目录到Python路径\n",
    "sys.path.append('../src')\n",
    "\n",
    "from data.data_loader import PowerLoadDataLoader\n",
    "from data.preprocessing import PowerLoadPreprocessor\n",
    "from utils.visualization import setup_visualization_style, plot_time_series, plot_correlation_matrix\n",
    "\n",
    "# 设置可视化样式\n",
    "setup_visualization_style()\n",
    "\n",
    "# 设置中文字体\n",
    "plt.rcParams['font.sans-serif'] = ['SimHei']\n",
    "plt.rcParams['axes.unicode_minus'] = False"
   ]
  },
  {
   "cell_type": "markdown",
   "metadata": {},
   "source": [
    "## 1. 数据加载"
   ]
  },
  {
   "cell_type": "code",
   "execution_count": null,
   "metadata": {},
   "outputs": [],
   "source": [
    "# 创建数据加载器\n",
    "loader = PowerLoadDataLoader()\n",
    "\n",
    "# 加载数据\n",
    "data = loader.load_data()\n",
    "\n",
    "print(\"数据基本信息:\")\n",
    "print(f\"数据形状: {data.shape}\")\n",
    "print(f\"时间范围: {data['datetime'].min()} 到 {data['datetime'].max()}\")\n",
    "print()\n",
    "\n",
    "print(\"数据前5行:\")\n",
    "print(data.head())\n",
    "print()\n",
    "\n",
    "print(\"数据统计信息:\")\n",
    "print(data.describe())"
   ]
  },
  {
   "cell_type": "markdown",
   "metadata": {},
   "source": [
    "## 2. 数据可视化"
   ]
  },
  {
   "cell_type": "code",
   "execution_count": null,
   "metadata": {},
   "outputs": [],
   "source": [
    "# 绘制时间序列图\n",
    "plot_time_series(data, 'datetime', 'load', title='电力负荷时间序列')"
   ]
  },
  {
   "cell_type": "markdown",
   "metadata": {},
   "source": [
    "## 3. 数据预处理"
   ]
  },
  {
   "cell_type": "code",
   "execution_count": null,
   "metadata": {},
   "outputs": [],
   "source": [
    "# 创建预处理器\n",
    "preprocessor = PowerLoadPreprocessor()\n",
    "\n",
    "# 创建时间特征\n",
    "data_with_time_features = preprocessor.create_time_features(data)\n",
    "\n",
    "# 创建滞后特征\n",
    "data_with_lag_features = preprocessor.create_lag_features(data_with_time_features)\n",
    "\n",
    "# 创建滚动统计特征\n",
    "processed_data = preprocessor.create_rolling_features(data_with_lag_features)\n",
    "\n",
    "# 删除包含NaN的行\n",
    "processed_data = processed_data.dropna().reset_index(drop=True)\n",
    "\n",
    "print(f\"处理后数据形状: {processed_data.shape}\")\n",
    "print()\n",
    "print(\"处理后数据前5行:\")\n",
    "print(processed_data.head())"
   ]
  },
  {
   "cell_type": "markdown",
   "metadata": {},
   "source": [
    "## 4. 特征相关性分析"
   ]
  },
  {
   "cell_type": "code",
   "execution_count": null,
   "metadata": {},
   "outputs": [],
   "source": [
    "# 选择数值型特征进行相关性分析\n",
    "numeric_columns = processed_data.select_dtypes(include=[np.number]).columns\n",
    "numeric_data = processed_data[numeric_columns]\n",
    "\n",
    "# 绘制相关性矩阵\n",
    "plot_correlation_matrix(numeric_data.head(1000), title='电力负荷特征相关性矩阵')"
   ]
  },
  {
   "cell_type": "markdown",
   "metadata": {},
   "source": [
    "## 5. 特征重要性分析"
   ]
  },
  {
   "cell_type": "code",
   "execution_count": null,
   "metadata": {},
   "outputs": [],
   "source": [
    "# 这里可以添加特征重要性分析代码\n",
    "print(\"特征重要性分析将在模型训练后进行...\")"
   ]
  }
 ],
 "metadata": {
  "kernelspec": {
   "display_name": "Python 3",
   "language": "python",
   "name": "python3"
  },
  "language_info": {
   "codemirror_mode": {
    "name": "ipython",
    "version": 3
   },
   "file_extension": ".py",
   "mimetype": "text/x-python",
   "name": "python",
   "nbconvert_exporter": "python",
   "pygments_lexer": "ipython3",
   "version": "3.8.0"
  }
 },
 "nbformat": 4,
 "nbformat_minor": 4
}